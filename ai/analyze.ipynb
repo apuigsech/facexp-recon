{
 "cells": [
  {
   "cell_type": "code",
   "execution_count": null,
   "id": "60aa2028",
   "metadata": {},
   "outputs": [],
   "source": [
    "import os\n",
    "import numpy as np\n",
    "import pandas as pd\n",
    "\n",
    "from sklearn.preprocessing import MinMaxScaler, LabelBinarizer\n",
    "from sklearn.metrics import confusion_matrix\n",
    "from mlxtend.plotting import plot_confusion_matrix\n",
    "\n",
    "import tensorflow as tf\n",
    "\n",
    "from PIL import Image\n",
    "\n",
    "import matplotlib.pyplot as plt"
   ]
  },
  {
   "cell_type": "code",
   "execution_count": null,
   "id": "5e622e42",
   "metadata": {},
   "outputs": [],
   "source": [
    "!pip show mlxtend"
   ]
  },
  {
   "cell_type": "code",
   "execution_count": null,
   "id": "57fef2dd",
   "metadata": {},
   "outputs": [],
   "source": [
    "# List of emotions on the dataset we want to include (using comments -#- to exlcude).\n",
    "\n",
    "EMOTIONS=[\n",
    "    #'angry',\n",
    "    #'disgust',\n",
    "    #'fear',\n",
    "    'happy',\n",
    "    'neutral',\n",
    "    'sad',\n",
    "    'surprise',\n",
    "]"
   ]
  },
  {
   "cell_type": "code",
   "execution_count": null,
   "id": "8aaa4bf2",
   "metadata": {},
   "outputs": [],
   "source": [
    "# Load dataset images into the DataFrame.\n",
    "\n",
    "dataset = []\n",
    "\n",
    "for emotion in EMOTIONS:\n",
    "    if os.path.isdir(f'dataset/{emotion}'):\n",
    "        for image_filename in os.listdir(f'dataset/{emotion}'):\n",
    "            image = Image.open(f'dataset/{emotion}/{image_filename}')\n",
    "            pixels = np.array(image).astype(float)\n",
    "            dataset.append((pixels, emotion))\n",
    "\n",
    "df = pd.DataFrame(dataset, columns=['pixels', 'emotion'])"
   ]
  },
  {
   "cell_type": "code",
   "execution_count": null,
   "id": "8ccd50ba",
   "metadata": {},
   "outputs": [],
   "source": [
    "# Normalizacion of the data.\n",
    "\n",
    "X = np.array([MinMaxScaler().fit_transform(e) for e in df['pixels']])\n",
    "lb = LabelBinarizer()\n",
    "Y = lb.fit_transform(df['emotion'])"
   ]
  },
  {
   "cell_type": "code",
   "execution_count": null,
   "id": "760df6c2",
   "metadata": {},
   "outputs": [],
   "source": [
    "# Load trained model.\n",
    "\n",
    "MODEL='models/modelConv.h5'\n",
    "\n",
    "model = tf.keras.models.load_model(MODEL)"
   ]
  },
  {
   "cell_type": "code",
   "execution_count": null,
   "id": "4f3d8c71",
   "metadata": {},
   "outputs": [],
   "source": [
    "# Show confusion matrix (accuracy by emotion).\n",
    "\n",
    "Y_pred = model.predict(X)\n",
    "\n",
    "Y_labels = lb.inverse_transform(Y)\n",
    "Y_pred_labels = lb.inverse_transform(Y_pred)\n",
    "\n",
    "m = confusion_matrix(Y_labels, Y_pred_labels)\n",
    "\n",
    "plot_confusion_matrix(m, class_names=EMOTIONS, show_absolute=False, show_normed=True)\n",
    "plt.show()"
   ]
  },
  {
   "cell_type": "code",
   "execution_count": null,
   "id": "f3b7f421",
   "metadata": {},
   "outputs": [],
   "source": [
    "pred_fail_idx = np.where(np.not_equal(Y_labels, Y_pred_labels))"
   ]
  },
  {
   "cell_type": "code",
   "execution_count": null,
   "id": "2cdc4c59",
   "metadata": {
    "scrolled": true
   },
   "outputs": [],
   "source": [
    "SHOW=[5,5]\n",
    "\n",
    "fig, ax = plt.subplots(SHOW[0], SHOW[1], sharex=True, sharey=True, figsize=(20,20))\n",
    "\n",
    "\n",
    "for i in range(SHOW[0]):\n",
    "    for j in range(SHOW[1]):\n",
    "        idx = pred_fail_idx[0][i*SHOW[0]+j]\n",
    "        ax[i][j].imshow(X[idx], cmap='gray')\n",
    "        ax[i][j].set_xticks([])\n",
    "        ax[i][j].set_yticks([])   \n",
    "        ax[i][j].set_title(f'Dataset: {Y_labels[idx]} || Model: {Y_pred_labels[idx]}')\n",
    "    \n",
    "plt.show()"
   ]
  },
  {
   "cell_type": "code",
   "execution_count": null,
   "id": "80a3a76d",
   "metadata": {},
   "outputs": [],
   "source": []
  }
 ],
 "metadata": {
  "kernelspec": {
   "display_name": "Python 3 (ipykernel)",
   "language": "python",
   "name": "python3"
  },
  "language_info": {
   "codemirror_mode": {
    "name": "ipython",
    "version": 3
   },
   "file_extension": ".py",
   "mimetype": "text/x-python",
   "name": "python",
   "nbconvert_exporter": "python",
   "pygments_lexer": "ipython3",
   "version": "3.10.9"
  }
 },
 "nbformat": 4,
 "nbformat_minor": 5
}
