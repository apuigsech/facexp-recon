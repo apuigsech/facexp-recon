{
 "cells": [
  {
   "cell_type": "code",
   "execution_count": 14,
   "id": "8a1e1911",
   "metadata": {},
   "outputs": [],
   "source": [
    "import os\n",
    "import numpy as np\n",
    "import pandas as pd\n",
    "\n",
    "from sklearn.model_selection import train_test_split\n",
    "from sklearn.preprocessing import MinMaxScaler, LabelBinarizer\n",
    "\n",
    "import tensorflow as tf\n",
    "from tensorflow.keras import Sequential\n",
    "from tensorflow.keras.layers import Conv2D, BatchNormalization, MaxPooling2D, Dropout, Flatten, Dense, GlobalAveragePooling2D\n",
    "from tensorflow.keras.applications import MobileNetV2, ResNet50\n",
    "from tensorflow.keras.optimizers.legacy import Adam\n",
    "from tensorflow.keras.callbacks import TensorBoard\n",
    "\n",
    "\n",
    "from PIL import Image"
   ]
  },
  {
   "cell_type": "code",
   "execution_count": 17,
   "id": "de229ae1",
   "metadata": {},
   "outputs": [
    {
     "name": "stdout",
     "output_type": "stream",
     "text": [
      "The tensorboard extension is already loaded. To reload it, use:\n",
      "  %reload_ext tensorboard\n"
     ]
    },
    {
     "data": {
      "text/html": [
       "\n",
       "      <iframe id=\"tensorboard-frame-4a9daac236e8dec8\" width=\"100%\" height=\"800\" frameborder=\"0\">\n",
       "      </iframe>\n",
       "      <script>\n",
       "        (function() {\n",
       "          const frame = document.getElementById(\"tensorboard-frame-4a9daac236e8dec8\");\n",
       "          const url = new URL(\"/\", window.location);\n",
       "          const port = 6006;\n",
       "          if (port) {\n",
       "            url.port = port;\n",
       "          }\n",
       "          frame.src = url;\n",
       "        })();\n",
       "      </script>\n",
       "    "
      ],
      "text/plain": [
       "<IPython.core.display.HTML object>"
      ]
     },
     "metadata": {},
     "output_type": "display_data"
    }
   ],
   "source": [
    "# Load TensorBoard to monitor training activity on realtime.\n",
    "\n",
    "%load_ext tensorboard\n",
    "%tensorboard --logdir logs"
   ]
  },
  {
   "cell_type": "code",
   "execution_count": 18,
   "id": "8f35919b",
   "metadata": {},
   "outputs": [],
   "source": [
    "# Load dataset images into the DataFrame.\n",
    "\n",
    "dataset = []\n",
    "\n",
    "for emotion in os.listdir('dataset'):\n",
    "    if os.path.isdir(f'dataset/{emotion}'):\n",
    "        for image_filename in os.listdir(f'dataset/{emotion}'):\n",
    "            image = Image.open(f'dataset/{emotion}/{image_filename}')\n",
    "            pixels = np.array(image).astype(float)\n",
    "            dataset.append((pixels, emotion))\n",
    "\n",
    "df = pd.DataFrame(dataset, columns=['pixels', 'emotion'])"
   ]
  },
  {
   "cell_type": "code",
   "execution_count": 19,
   "id": "659ce47d",
   "metadata": {},
   "outputs": [],
   "source": [
    "# Normalizacion of the data.\n",
    "\n",
    "X = np.array([MinMaxScaler().fit_transform(e) for e in df['pixels']])\n",
    "Y = LabelBinarizer().fit_transform(df['emotion'])"
   ]
  },
  {
   "cell_type": "code",
   "execution_count": 20,
   "id": "54daff95",
   "metadata": {},
   "outputs": [],
   "source": [
    "# Split dataset into train and test data.\n",
    "\n",
    "X_train, X_test, Y_train, Y_test = train_test_split(X, Y, test_size=0.2, random_state=42)"
   ]
  },
  {
   "cell_type": "code",
   "execution_count": 21,
   "id": "57a009e9",
   "metadata": {},
   "outputs": [],
   "source": [
    "# Attributes for input (images width, high and channel) and output (number of labels).\n",
    "\n",
    "_, IMAGE_WIDTH, IMAGE_HEIGHT = X.shape\n",
    "_, NUM_LABELS = Y.shape\n",
    "\n",
    "NUM_CHANNELS = 1"
   ]
  },
  {
   "cell_type": "code",
   "execution_count": 22,
   "id": "301414cf",
   "metadata": {},
   "outputs": [],
   "source": [
    "# Create a Convolutional model.\n",
    "\n",
    "modelConv = Sequential([\n",
    "    Conv2D(32, (3,3), padding=\"Same\", activation='relu', input_shape=(IMAGE_WIDTH, IMAGE_HEIGHT, NUM_CHANNELS)),\n",
    "    BatchNormalization(),\n",
    "    Conv2D(32, (5,5), padding=\"Same\", activation='relu'),\n",
    "    MaxPooling2D((2,2)),\n",
    "    Dropout(0.5),\n",
    "    Conv2D(64, (3,3), padding=\"Same\", activation='relu'),\n",
    "    BatchNormalization(),\n",
    "    Conv2D(64, (5,5), padding=\"Same\", activation='relu'),\n",
    "    MaxPooling2D((2,2)),\n",
    "    Dropout(0.5),\n",
    "    Conv2D(128, (3,3), padding=\"Same\", activation='relu'),\n",
    "    BatchNormalization(),\n",
    "    Conv2D(128, (5,5), padding=\"Same\", activation='relu'),\n",
    "    MaxPooling2D((2,2)),\n",
    "    Dropout(0.5),\n",
    "    Flatten(),\n",
    "    Dense(256, activation='relu'),\n",
    "    Dense(NUM_LABELS, activation='softmax'),\n",
    "])\n",
    "\n",
    "modelConv.compile(loss='categorical_crossentropy', optimizer=Adam(0.001), metrics=['accuracy'])"
   ]
  },
  {
   "cell_type": "code",
   "execution_count": 23,
   "id": "3616ff11",
   "metadata": {},
   "outputs": [
    {
     "name": "stdout",
     "output_type": "stream",
     "text": [
      "Epoch 1/50\n"
     ]
    },
    {
     "name": "stderr",
     "output_type": "stream",
     "text": [
      "2022-12-29 01:38:18.231328: I tensorflow/core/grappler/optimizers/custom_graph_optimizer_registry.cc:114] Plugin optimizer for device_type GPU is enabled.\n"
     ]
    },
    {
     "name": "stdout",
     "output_type": "stream",
     "text": [
      "898/898 [==============================] - ETA: 0s - loss: 1.7355 - accuracy: 0.3247"
     ]
    },
    {
     "name": "stderr",
     "output_type": "stream",
     "text": [
      "2022-12-29 01:38:41.594965: I tensorflow/core/grappler/optimizers/custom_graph_optimizer_registry.cc:114] Plugin optimizer for device_type GPU is enabled.\n"
     ]
    },
    {
     "name": "stdout",
     "output_type": "stream",
     "text": [
      "898/898 [==============================] - 26s 28ms/step - loss: 1.7355 - accuracy: 0.3247 - val_loss: 1.8935 - val_accuracy: 0.3564\n",
      "Epoch 2/50\n",
      "898/898 [==============================] - 25s 28ms/step - loss: 1.4287 - accuracy: 0.4424 - val_loss: 1.3798 - val_accuracy: 0.4510\n",
      "Epoch 3/50\n",
      "898/898 [==============================] - 25s 28ms/step - loss: 1.3313 - accuracy: 0.4829 - val_loss: 1.3112 - val_accuracy: 0.4994\n",
      "Epoch 4/50\n",
      "898/898 [==============================] - 25s 28ms/step - loss: 1.2672 - accuracy: 0.5045 - val_loss: 1.2880 - val_accuracy: 0.5067\n",
      "Epoch 5/50\n",
      "898/898 [==============================] - 25s 27ms/step - loss: 1.2236 - accuracy: 0.5312 - val_loss: 1.1991 - val_accuracy: 0.5414\n",
      "Epoch 6/50\n",
      "898/898 [==============================] - 25s 27ms/step - loss: 1.1702 - accuracy: 0.5561 - val_loss: 1.1575 - val_accuracy: 0.5557\n",
      "Epoch 7/50\n",
      "898/898 [==============================] - 25s 28ms/step - loss: 1.1345 - accuracy: 0.5700 - val_loss: 1.1339 - val_accuracy: 0.5791\n",
      "Epoch 8/50\n",
      "898/898 [==============================] - 25s 28ms/step - loss: 1.0947 - accuracy: 0.5862 - val_loss: 1.1647 - val_accuracy: 0.5566\n",
      "Epoch 9/50\n",
      "898/898 [==============================] - 24s 27ms/step - loss: 1.0673 - accuracy: 0.5975 - val_loss: 1.1068 - val_accuracy: 0.5850\n",
      "Epoch 10/50\n",
      "898/898 [==============================] - 25s 27ms/step - loss: 1.0370 - accuracy: 0.6095 - val_loss: 1.1124 - val_accuracy: 0.5825\n",
      "Epoch 11/50\n",
      "898/898 [==============================] - 25s 28ms/step - loss: 1.0162 - accuracy: 0.6184 - val_loss: 1.1055 - val_accuracy: 0.5936\n",
      "Epoch 12/50\n",
      "898/898 [==============================] - 25s 28ms/step - loss: 0.9872 - accuracy: 0.6288 - val_loss: 1.0901 - val_accuracy: 0.5975\n",
      "Epoch 13/50\n",
      "898/898 [==============================] - 25s 28ms/step - loss: 0.9644 - accuracy: 0.6395 - val_loss: 1.1020 - val_accuracy: 0.6014\n",
      "Epoch 14/50\n",
      "898/898 [==============================] - 25s 28ms/step - loss: 0.9489 - accuracy: 0.6491 - val_loss: 1.0802 - val_accuracy: 0.6021\n",
      "Epoch 15/50\n",
      "898/898 [==============================] - 25s 28ms/step - loss: 0.9173 - accuracy: 0.6553 - val_loss: 1.1235 - val_accuracy: 0.5935\n",
      "Epoch 16/50\n",
      "898/898 [==============================] - 25s 28ms/step - loss: 0.9027 - accuracy: 0.6655 - val_loss: 1.0740 - val_accuracy: 0.6073\n",
      "Epoch 17/50\n",
      "898/898 [==============================] - 25s 27ms/step - loss: 0.8816 - accuracy: 0.6725 - val_loss: 1.0757 - val_accuracy: 0.6119\n",
      "Epoch 18/50\n",
      "898/898 [==============================] - 25s 28ms/step - loss: 0.8577 - accuracy: 0.6840 - val_loss: 1.0763 - val_accuracy: 0.6173\n",
      "Epoch 19/50\n",
      "898/898 [==============================] - 25s 27ms/step - loss: 0.8411 - accuracy: 0.6898 - val_loss: 1.0902 - val_accuracy: 0.6140\n",
      "Epoch 20/50\n",
      "898/898 [==============================] - 25s 28ms/step - loss: 0.8240 - accuracy: 0.6963 - val_loss: 1.1504 - val_accuracy: 0.5943\n",
      "Epoch 21/50\n",
      "898/898 [==============================] - 25s 27ms/step - loss: 0.8132 - accuracy: 0.6980 - val_loss: 1.0896 - val_accuracy: 0.6113\n",
      "Epoch 22/50\n",
      "898/898 [==============================] - 25s 28ms/step - loss: 0.7863 - accuracy: 0.7122 - val_loss: 1.0929 - val_accuracy: 0.6198\n",
      "Epoch 23/50\n",
      "898/898 [==============================] - 25s 28ms/step - loss: 0.7694 - accuracy: 0.7180 - val_loss: 1.1416 - val_accuracy: 0.6099\n",
      "Epoch 24/50\n",
      "898/898 [==============================] - 26s 29ms/step - loss: 0.7593 - accuracy: 0.7231 - val_loss: 1.1459 - val_accuracy: 0.6181\n",
      "Epoch 25/50\n",
      "898/898 [==============================] - 26s 29ms/step - loss: 0.7383 - accuracy: 0.7291 - val_loss: 1.1347 - val_accuracy: 0.6148\n",
      "Epoch 26/50\n",
      "898/898 [==============================] - 25s 27ms/step - loss: 0.7240 - accuracy: 0.7361 - val_loss: 1.1179 - val_accuracy: 0.6226\n",
      "Epoch 27/50\n",
      "898/898 [==============================] - 24s 27ms/step - loss: 0.7089 - accuracy: 0.7391 - val_loss: 1.1063 - val_accuracy: 0.6222\n",
      "Epoch 28/50\n",
      "898/898 [==============================] - 24s 27ms/step - loss: 0.7011 - accuracy: 0.7446 - val_loss: 1.1072 - val_accuracy: 0.6280\n",
      "Epoch 29/50\n",
      "898/898 [==============================] - 25s 27ms/step - loss: 0.6818 - accuracy: 0.7515 - val_loss: 1.1253 - val_accuracy: 0.6236\n",
      "Epoch 30/50\n",
      "898/898 [==============================] - 25s 27ms/step - loss: 0.6723 - accuracy: 0.7547 - val_loss: 1.1162 - val_accuracy: 0.6215\n",
      "Epoch 31/50\n",
      "898/898 [==============================] - 24s 27ms/step - loss: 0.6588 - accuracy: 0.7593 - val_loss: 1.1185 - val_accuracy: 0.6204\n",
      "Epoch 32/50\n",
      "898/898 [==============================] - 25s 28ms/step - loss: 0.6348 - accuracy: 0.7675 - val_loss: 1.1819 - val_accuracy: 0.6254\n",
      "Epoch 33/50\n",
      "898/898 [==============================] - 25s 28ms/step - loss: 0.6322 - accuracy: 0.7719 - val_loss: 1.1549 - val_accuracy: 0.6247\n",
      "Epoch 34/50\n",
      "898/898 [==============================] - 25s 28ms/step - loss: 0.6223 - accuracy: 0.7728 - val_loss: 1.2189 - val_accuracy: 0.6165\n",
      "Epoch 35/50\n",
      "898/898 [==============================] - 25s 28ms/step - loss: 0.6004 - accuracy: 0.7833 - val_loss: 1.2103 - val_accuracy: 0.6165\n",
      "Epoch 36/50\n",
      "898/898 [==============================] - 25s 28ms/step - loss: 0.5936 - accuracy: 0.7845 - val_loss: 1.1790 - val_accuracy: 0.6278\n",
      "Epoch 37/50\n",
      "898/898 [==============================] - 24s 27ms/step - loss: 0.5797 - accuracy: 0.7901 - val_loss: 1.1825 - val_accuracy: 0.6156\n",
      "Epoch 38/50\n",
      "898/898 [==============================] - 25s 28ms/step - loss: 0.5773 - accuracy: 0.7903 - val_loss: 1.1977 - val_accuracy: 0.6220\n",
      "Epoch 39/50\n",
      "898/898 [==============================] - 26s 28ms/step - loss: 0.5591 - accuracy: 0.7971 - val_loss: 1.1821 - val_accuracy: 0.6241\n",
      "Epoch 40/50\n",
      "898/898 [==============================] - 25s 28ms/step - loss: 0.5533 - accuracy: 0.7994 - val_loss: 1.2015 - val_accuracy: 0.6275\n",
      "Epoch 41/50\n",
      "898/898 [==============================] - 25s 28ms/step - loss: 0.5403 - accuracy: 0.8055 - val_loss: 1.2826 - val_accuracy: 0.6226\n",
      "Epoch 42/50\n",
      "898/898 [==============================] - 25s 28ms/step - loss: 0.5327 - accuracy: 0.8110 - val_loss: 1.2306 - val_accuracy: 0.6205\n",
      "Epoch 43/50\n",
      "898/898 [==============================] - 24s 27ms/step - loss: 0.5308 - accuracy: 0.8079 - val_loss: 1.1622 - val_accuracy: 0.6321\n",
      "Epoch 44/50\n",
      "898/898 [==============================] - 25s 27ms/step - loss: 0.5100 - accuracy: 0.8172 - val_loss: 1.2346 - val_accuracy: 0.6303\n",
      "Epoch 45/50\n",
      "898/898 [==============================] - 25s 28ms/step - loss: 0.5001 - accuracy: 0.8189 - val_loss: 1.2913 - val_accuracy: 0.6218\n",
      "Epoch 46/50\n",
      "898/898 [==============================] - 25s 27ms/step - loss: 0.4958 - accuracy: 0.8226 - val_loss: 1.2666 - val_accuracy: 0.6279\n",
      "Epoch 47/50\n",
      "898/898 [==============================] - 25s 27ms/step - loss: 0.4941 - accuracy: 0.8225 - val_loss: 1.2806 - val_accuracy: 0.6374\n",
      "Epoch 48/50\n",
      "898/898 [==============================] - 25s 28ms/step - loss: 0.4812 - accuracy: 0.8260 - val_loss: 1.2354 - val_accuracy: 0.6326\n",
      "Epoch 49/50\n",
      "898/898 [==============================] - 25s 27ms/step - loss: 0.4651 - accuracy: 0.8345 - val_loss: 1.3865 - val_accuracy: 0.6244\n",
      "Epoch 50/50\n",
      "898/898 [==============================] - 25s 28ms/step - loss: 0.4646 - accuracy: 0.8349 - val_loss: 1.3108 - val_accuracy: 0.6287\n"
     ]
    },
    {
     "data": {
      "text/plain": [
       "<keras.callbacks.History at 0x4cbbd9480>"
      ]
     },
     "execution_count": 23,
     "metadata": {},
     "output_type": "execute_result"
    }
   ],
   "source": [
    "# Train the convolutional model.\n",
    "\n",
    "modelConv.fit(X_train, Y_train, batch_size=32, epochs=50, validation_data=(X_test, Y_test), callbacks=[TensorBoard(log_dir=\"logs/modelConv\")])"
   ]
  },
  {
   "cell_type": "code",
   "execution_count": null,
   "id": "4428f1f8",
   "metadata": {},
   "outputs": [],
   "source": [
    "score, acc = modelConv.evaluate(X_test, Y_test, batch_size=100)\n",
    "print('Test score:', score)\n",
    "print(\"Test accuracy:\", acc)"
   ]
  },
  {
   "cell_type": "code",
   "execution_count": 3,
   "id": "351b4142",
   "metadata": {},
   "outputs": [],
   "source": [
    "# Load dataset images into the DataFrame and convert into RGB (required by MobileNetV2)\n",
    "\n",
    "dataset = []\n",
    "\n",
    "for emotion in os.listdir('dataset'):\n",
    "    if os.path.isdir(f'dataset/{emotion}'):\n",
    "        for image_filename in os.listdir(f'dataset/{emotion}'):\n",
    "            image = Image.open(f'dataset/{emotion}/{image_filename}').convert(\"RGB\")\n",
    "            pixels = np.array(image).astype(float)\n",
    "            dataset.append((pixels, emotion))\n",
    "\n",
    "df = pd.DataFrame(dataset, columns=['pixels', 'emotion'])"
   ]
  },
  {
   "cell_type": "code",
   "execution_count": 4,
   "id": "ef3c733d",
   "metadata": {},
   "outputs": [],
   "source": [
    "# Normalizacion of the data.\n",
    "\n",
    "X = np.array((df['pixels']/255).values.tolist())\n",
    "Y = LabelBinarizer().fit_transform(df['emotion'])"
   ]
  },
  {
   "cell_type": "code",
   "execution_count": 5,
   "id": "240bdfc2",
   "metadata": {},
   "outputs": [],
   "source": [
    "# Split dataset into train and test data.\n",
    "\n",
    "X_train, X_test, Y_train, Y_test = train_test_split(X, Y, test_size=0.2, random_state=42)"
   ]
  },
  {
   "cell_type": "code",
   "execution_count": 6,
   "id": "385a86b0",
   "metadata": {},
   "outputs": [],
   "source": [
    "# Attributes for input (images width, high and channel) and output (number of labels).\n",
    "\n",
    "_, IMAGE_WIDTH, IMAGE_HEIGHT, NUM_CHANNELS = X.shape\n",
    "_, NUM_LABELS = Y.shape"
   ]
  },
  {
   "cell_type": "code",
   "execution_count": 7,
   "id": "93385b1e",
   "metadata": {},
   "outputs": [
    {
     "name": "stdout",
     "output_type": "stream",
     "text": [
      "WARNING:tensorflow:`input_shape` is undefined or non-square, or `rows` is not in [96, 128, 160, 192, 224]. Weights for input shape (224, 224) will be loaded as the default.\n",
      "Metal device set to: Apple M1 Pro\n"
     ]
    },
    {
     "name": "stderr",
     "output_type": "stream",
     "text": [
      "2022-12-28 23:10:05.810564: I tensorflow/core/common_runtime/pluggable_device/pluggable_device_factory.cc:306] Could not identify NUMA node of platform GPU ID 0, defaulting to 0. Your kernel may not have been built with NUMA support.\n",
      "2022-12-28 23:10:05.810586: I tensorflow/core/common_runtime/pluggable_device/pluggable_device_factory.cc:272] Created TensorFlow device (/job:localhost/replica:0/task:0/device:GPU:0 with 0 MB memory) -> physical PluggableDevice (device: 0, name: METAL, pci bus id: <undefined>)\n"
     ]
    }
   ],
   "source": [
    "# Create a MobileNetV2 based model.\n",
    "\n",
    "base_model = MobileNetV2(input_shape=(IMAGE_WIDTH, IMAGE_HEIGHT, NUM_CHANNELS),\n",
    "                         include_top=False,\n",
    "                         weights='imagenet')\n",
    "\n",
    "#base_model.trainable = False\n",
    "\n",
    "modelMobNet = Sequential([\n",
    "    base_model,\n",
    "    GlobalAveragePooling2D(),\n",
    "    Dropout(0.3),\n",
    "    Dense(128, activation='softmax'),\n",
    "    Dense(NUM_LABELS, activation='softmax'),\n",
    "])\n",
    "\n",
    "modelMobNet.compile(loss='categorical_crossentropy', optimizer=Adam(0.001), metrics=['accuracy'])"
   ]
  },
  {
   "cell_type": "code",
   "execution_count": 12,
   "id": "0df59856",
   "metadata": {},
   "outputs": [
    {
     "name": "stdout",
     "output_type": "stream",
     "text": [
      "Epoch 1/25\n",
      "898/898 [==============================] - 46s 51ms/step - loss: 0.6397 - accuracy: 0.7833 - val_loss: 1.4007 - val_accuracy: 0.5747\n",
      "Epoch 2/25\n",
      "898/898 [==============================] - 45s 50ms/step - loss: 0.6121 - accuracy: 0.7934 - val_loss: 1.4480 - val_accuracy: 0.5626\n",
      "Epoch 3/25\n",
      "898/898 [==============================] - 47s 52ms/step - loss: 0.5966 - accuracy: 0.8006 - val_loss: 1.4254 - val_accuracy: 0.5626\n",
      "Epoch 4/25\n",
      "898/898 [==============================] - 47s 52ms/step - loss: 0.5802 - accuracy: 0.8056 - val_loss: 1.3481 - val_accuracy: 0.5795\n",
      "Epoch 5/25\n",
      "898/898 [==============================] - 47s 52ms/step - loss: 0.5753 - accuracy: 0.8073 - val_loss: 1.4000 - val_accuracy: 0.5678\n",
      "Epoch 6/25\n",
      "898/898 [==============================] - 46s 52ms/step - loss: 0.5666 - accuracy: 0.8120 - val_loss: 1.4512 - val_accuracy: 0.5660\n",
      "Epoch 7/25\n",
      "898/898 [==============================] - 46s 51ms/step - loss: 0.5224 - accuracy: 0.8270 - val_loss: 1.4646 - val_accuracy: 0.5554\n",
      "Epoch 8/25\n",
      "898/898 [==============================] - 45s 51ms/step - loss: 0.5142 - accuracy: 0.8301 - val_loss: 1.4239 - val_accuracy: 0.5741\n",
      "Epoch 9/25\n",
      "898/898 [==============================] - 45s 50ms/step - loss: 0.5405 - accuracy: 0.8214 - val_loss: 1.4591 - val_accuracy: 0.5738\n",
      "Epoch 10/25\n",
      "898/898 [==============================] - 45s 50ms/step - loss: 0.4846 - accuracy: 0.8402 - val_loss: 1.5433 - val_accuracy: 0.5545\n",
      "Epoch 11/25\n",
      "898/898 [==============================] - 44s 49ms/step - loss: 0.4675 - accuracy: 0.8477 - val_loss: 1.4748 - val_accuracy: 0.5688\n",
      "Epoch 12/25\n",
      "898/898 [==============================] - 45s 50ms/step - loss: 0.4451 - accuracy: 0.8552 - val_loss: 1.5432 - val_accuracy: 0.5646\n",
      "Epoch 13/25\n",
      "898/898 [==============================] - 45s 50ms/step - loss: 0.4401 - accuracy: 0.8587 - val_loss: 1.5082 - val_accuracy: 0.5704\n",
      "Epoch 14/25\n",
      "898/898 [==============================] - 48s 54ms/step - loss: 0.4219 - accuracy: 0.8648 - val_loss: 1.5043 - val_accuracy: 0.5670\n",
      "Epoch 15/25\n",
      "898/898 [==============================] - 45s 50ms/step - loss: 0.4614 - accuracy: 0.8511 - val_loss: 1.5820 - val_accuracy: 0.5660\n",
      "Epoch 16/25\n",
      "898/898 [==============================] - 45s 50ms/step - loss: 0.4049 - accuracy: 0.8740 - val_loss: 1.5461 - val_accuracy: 0.5730\n",
      "Epoch 17/25\n",
      "898/898 [==============================] - 45s 50ms/step - loss: 0.3857 - accuracy: 0.8779 - val_loss: 1.6183 - val_accuracy: 0.5446\n",
      "Epoch 18/25\n",
      "898/898 [==============================] - 45s 50ms/step - loss: 0.3910 - accuracy: 0.8775 - val_loss: 1.5719 - val_accuracy: 0.5602\n",
      "Epoch 19/25\n",
      "898/898 [==============================] - 44s 49ms/step - loss: 0.4036 - accuracy: 0.8707 - val_loss: 1.4994 - val_accuracy: 0.5798\n",
      "Epoch 20/25\n",
      "898/898 [==============================] - 44s 49ms/step - loss: 0.3510 - accuracy: 0.8921 - val_loss: 1.6735 - val_accuracy: 0.5554\n",
      "Epoch 21/25\n",
      "898/898 [==============================] - 45s 50ms/step - loss: 0.4635 - accuracy: 0.8495 - val_loss: 1.5847 - val_accuracy: 0.5468\n",
      "Epoch 22/25\n",
      "898/898 [==============================] - 46s 51ms/step - loss: 0.3245 - accuracy: 0.8998 - val_loss: 1.6379 - val_accuracy: 0.5734\n",
      "Epoch 23/25\n",
      "799/898 [=========================>....] - ETA: 4s - loss: 0.3275 - accuracy: 0.9007"
     ]
    },
    {
     "ename": "KeyboardInterrupt",
     "evalue": "",
     "output_type": "error",
     "traceback": [
      "\u001b[0;31m---------------------------------------------------------------------------\u001b[0m",
      "\u001b[0;31mKeyboardInterrupt\u001b[0m                         Traceback (most recent call last)",
      "Cell \u001b[0;32mIn[12], line 3\u001b[0m\n\u001b[1;32m      1\u001b[0m \u001b[38;5;66;03m# Train the MobileNetV2 based model.\u001b[39;00m\n\u001b[0;32m----> 3\u001b[0m \u001b[43mmodelMobNet\u001b[49m\u001b[38;5;241;43m.\u001b[39;49m\u001b[43mfit\u001b[49m\u001b[43m(\u001b[49m\u001b[43mX_train\u001b[49m\u001b[43m,\u001b[49m\u001b[43m \u001b[49m\u001b[43mY_train\u001b[49m\u001b[43m,\u001b[49m\u001b[43m \u001b[49m\u001b[43mbatch_size\u001b[49m\u001b[38;5;241;43m=\u001b[39;49m\u001b[38;5;241;43m32\u001b[39;49m\u001b[43m,\u001b[49m\u001b[43m \u001b[49m\u001b[43mepochs\u001b[49m\u001b[38;5;241;43m=\u001b[39;49m\u001b[38;5;241;43m25\u001b[39;49m\u001b[43m,\u001b[49m\u001b[43m  \u001b[49m\u001b[43mvalidation_data\u001b[49m\u001b[38;5;241;43m=\u001b[39;49m\u001b[43m(\u001b[49m\u001b[43mX_test\u001b[49m\u001b[43m,\u001b[49m\u001b[43m \u001b[49m\u001b[43mY_test\u001b[49m\u001b[43m)\u001b[49m\u001b[43m,\u001b[49m\u001b[43m \u001b[49m\u001b[43mcallbacks\u001b[49m\u001b[38;5;241;43m=\u001b[39;49m\u001b[43m[\u001b[49m\u001b[43mTensorBoard\u001b[49m\u001b[43m(\u001b[49m\u001b[43mlog_dir\u001b[49m\u001b[38;5;241;43m=\u001b[39;49m\u001b[38;5;124;43m\"\u001b[39;49m\u001b[38;5;124;43mlogs/modelMobNet\u001b[39;49m\u001b[38;5;124;43m\"\u001b[39;49m\u001b[43m)\u001b[49m\u001b[43m]\u001b[49m\u001b[43m)\u001b[49m\n",
      "File \u001b[0;32m~/tensorflow-metal/lib/python3.10/site-packages/keras/utils/traceback_utils.py:65\u001b[0m, in \u001b[0;36mfilter_traceback.<locals>.error_handler\u001b[0;34m(*args, **kwargs)\u001b[0m\n\u001b[1;32m     63\u001b[0m filtered_tb \u001b[38;5;241m=\u001b[39m \u001b[38;5;28;01mNone\u001b[39;00m\n\u001b[1;32m     64\u001b[0m \u001b[38;5;28;01mtry\u001b[39;00m:\n\u001b[0;32m---> 65\u001b[0m     \u001b[38;5;28;01mreturn\u001b[39;00m \u001b[43mfn\u001b[49m\u001b[43m(\u001b[49m\u001b[38;5;241;43m*\u001b[39;49m\u001b[43margs\u001b[49m\u001b[43m,\u001b[49m\u001b[43m \u001b[49m\u001b[38;5;241;43m*\u001b[39;49m\u001b[38;5;241;43m*\u001b[39;49m\u001b[43mkwargs\u001b[49m\u001b[43m)\u001b[49m\n\u001b[1;32m     66\u001b[0m \u001b[38;5;28;01mexcept\u001b[39;00m \u001b[38;5;167;01mException\u001b[39;00m \u001b[38;5;28;01mas\u001b[39;00m e:\n\u001b[1;32m     67\u001b[0m     filtered_tb \u001b[38;5;241m=\u001b[39m _process_traceback_frames(e\u001b[38;5;241m.\u001b[39m__traceback__)\n",
      "File \u001b[0;32m~/tensorflow-metal/lib/python3.10/site-packages/keras/engine/training.py:1650\u001b[0m, in \u001b[0;36mModel.fit\u001b[0;34m(self, x, y, batch_size, epochs, verbose, callbacks, validation_split, validation_data, shuffle, class_weight, sample_weight, initial_epoch, steps_per_epoch, validation_steps, validation_batch_size, validation_freq, max_queue_size, workers, use_multiprocessing)\u001b[0m\n\u001b[1;32m   1642\u001b[0m \u001b[38;5;28;01mwith\u001b[39;00m tf\u001b[38;5;241m.\u001b[39mprofiler\u001b[38;5;241m.\u001b[39mexperimental\u001b[38;5;241m.\u001b[39mTrace(\n\u001b[1;32m   1643\u001b[0m     \u001b[38;5;124m\"\u001b[39m\u001b[38;5;124mtrain\u001b[39m\u001b[38;5;124m\"\u001b[39m,\n\u001b[1;32m   1644\u001b[0m     epoch_num\u001b[38;5;241m=\u001b[39mepoch,\n\u001b[0;32m   (...)\u001b[0m\n\u001b[1;32m   1647\u001b[0m     _r\u001b[38;5;241m=\u001b[39m\u001b[38;5;241m1\u001b[39m,\n\u001b[1;32m   1648\u001b[0m ):\n\u001b[1;32m   1649\u001b[0m     callbacks\u001b[38;5;241m.\u001b[39mon_train_batch_begin(step)\n\u001b[0;32m-> 1650\u001b[0m     tmp_logs \u001b[38;5;241m=\u001b[39m \u001b[38;5;28;43mself\u001b[39;49m\u001b[38;5;241;43m.\u001b[39;49m\u001b[43mtrain_function\u001b[49m\u001b[43m(\u001b[49m\u001b[43miterator\u001b[49m\u001b[43m)\u001b[49m\n\u001b[1;32m   1651\u001b[0m     \u001b[38;5;28;01mif\u001b[39;00m data_handler\u001b[38;5;241m.\u001b[39mshould_sync:\n\u001b[1;32m   1652\u001b[0m         context\u001b[38;5;241m.\u001b[39masync_wait()\n",
      "File \u001b[0;32m~/tensorflow-metal/lib/python3.10/site-packages/tensorflow/python/util/traceback_utils.py:150\u001b[0m, in \u001b[0;36mfilter_traceback.<locals>.error_handler\u001b[0;34m(*args, **kwargs)\u001b[0m\n\u001b[1;32m    148\u001b[0m filtered_tb \u001b[38;5;241m=\u001b[39m \u001b[38;5;28;01mNone\u001b[39;00m\n\u001b[1;32m    149\u001b[0m \u001b[38;5;28;01mtry\u001b[39;00m:\n\u001b[0;32m--> 150\u001b[0m   \u001b[38;5;28;01mreturn\u001b[39;00m \u001b[43mfn\u001b[49m\u001b[43m(\u001b[49m\u001b[38;5;241;43m*\u001b[39;49m\u001b[43margs\u001b[49m\u001b[43m,\u001b[49m\u001b[43m \u001b[49m\u001b[38;5;241;43m*\u001b[39;49m\u001b[38;5;241;43m*\u001b[39;49m\u001b[43mkwargs\u001b[49m\u001b[43m)\u001b[49m\n\u001b[1;32m    151\u001b[0m \u001b[38;5;28;01mexcept\u001b[39;00m \u001b[38;5;167;01mException\u001b[39;00m \u001b[38;5;28;01mas\u001b[39;00m e:\n\u001b[1;32m    152\u001b[0m   filtered_tb \u001b[38;5;241m=\u001b[39m _process_traceback_frames(e\u001b[38;5;241m.\u001b[39m__traceback__)\n",
      "File \u001b[0;32m~/tensorflow-metal/lib/python3.10/site-packages/tensorflow/python/eager/polymorphic_function/polymorphic_function.py:880\u001b[0m, in \u001b[0;36mFunction.__call__\u001b[0;34m(self, *args, **kwds)\u001b[0m\n\u001b[1;32m    877\u001b[0m compiler \u001b[38;5;241m=\u001b[39m \u001b[38;5;124m\"\u001b[39m\u001b[38;5;124mxla\u001b[39m\u001b[38;5;124m\"\u001b[39m \u001b[38;5;28;01mif\u001b[39;00m \u001b[38;5;28mself\u001b[39m\u001b[38;5;241m.\u001b[39m_jit_compile \u001b[38;5;28;01melse\u001b[39;00m \u001b[38;5;124m\"\u001b[39m\u001b[38;5;124mnonXla\u001b[39m\u001b[38;5;124m\"\u001b[39m\n\u001b[1;32m    879\u001b[0m \u001b[38;5;28;01mwith\u001b[39;00m OptionalXlaContext(\u001b[38;5;28mself\u001b[39m\u001b[38;5;241m.\u001b[39m_jit_compile):\n\u001b[0;32m--> 880\u001b[0m   result \u001b[38;5;241m=\u001b[39m \u001b[38;5;28;43mself\u001b[39;49m\u001b[38;5;241;43m.\u001b[39;49m\u001b[43m_call\u001b[49m\u001b[43m(\u001b[49m\u001b[38;5;241;43m*\u001b[39;49m\u001b[43margs\u001b[49m\u001b[43m,\u001b[49m\u001b[43m \u001b[49m\u001b[38;5;241;43m*\u001b[39;49m\u001b[38;5;241;43m*\u001b[39;49m\u001b[43mkwds\u001b[49m\u001b[43m)\u001b[49m\n\u001b[1;32m    882\u001b[0m new_tracing_count \u001b[38;5;241m=\u001b[39m \u001b[38;5;28mself\u001b[39m\u001b[38;5;241m.\u001b[39mexperimental_get_tracing_count()\n\u001b[1;32m    883\u001b[0m without_tracing \u001b[38;5;241m=\u001b[39m (tracing_count \u001b[38;5;241m==\u001b[39m new_tracing_count)\n",
      "File \u001b[0;32m~/tensorflow-metal/lib/python3.10/site-packages/tensorflow/python/eager/polymorphic_function/polymorphic_function.py:912\u001b[0m, in \u001b[0;36mFunction._call\u001b[0;34m(self, *args, **kwds)\u001b[0m\n\u001b[1;32m    909\u001b[0m   \u001b[38;5;28mself\u001b[39m\u001b[38;5;241m.\u001b[39m_lock\u001b[38;5;241m.\u001b[39mrelease()\n\u001b[1;32m    910\u001b[0m   \u001b[38;5;66;03m# In this case we have created variables on the first call, so we run the\u001b[39;00m\n\u001b[1;32m    911\u001b[0m   \u001b[38;5;66;03m# defunned version which is guaranteed to never create variables.\u001b[39;00m\n\u001b[0;32m--> 912\u001b[0m   \u001b[38;5;28;01mreturn\u001b[39;00m \u001b[38;5;28;43mself\u001b[39;49m\u001b[38;5;241;43m.\u001b[39;49m\u001b[43m_no_variable_creation_fn\u001b[49m\u001b[43m(\u001b[49m\u001b[38;5;241;43m*\u001b[39;49m\u001b[43margs\u001b[49m\u001b[43m,\u001b[49m\u001b[43m \u001b[49m\u001b[38;5;241;43m*\u001b[39;49m\u001b[38;5;241;43m*\u001b[39;49m\u001b[43mkwds\u001b[49m\u001b[43m)\u001b[49m  \u001b[38;5;66;03m# pylint: disable=not-callable\u001b[39;00m\n\u001b[1;32m    913\u001b[0m \u001b[38;5;28;01melif\u001b[39;00m \u001b[38;5;28mself\u001b[39m\u001b[38;5;241m.\u001b[39m_variable_creation_fn \u001b[38;5;129;01mis\u001b[39;00m \u001b[38;5;129;01mnot\u001b[39;00m \u001b[38;5;28;01mNone\u001b[39;00m:\n\u001b[1;32m    914\u001b[0m   \u001b[38;5;66;03m# Release the lock early so that multiple threads can perform the call\u001b[39;00m\n\u001b[1;32m    915\u001b[0m   \u001b[38;5;66;03m# in parallel.\u001b[39;00m\n\u001b[1;32m    916\u001b[0m   \u001b[38;5;28mself\u001b[39m\u001b[38;5;241m.\u001b[39m_lock\u001b[38;5;241m.\u001b[39mrelease()\n",
      "File \u001b[0;32m~/tensorflow-metal/lib/python3.10/site-packages/tensorflow/python/eager/polymorphic_function/tracing_compiler.py:134\u001b[0m, in \u001b[0;36mTracingCompiler.__call__\u001b[0;34m(self, *args, **kwargs)\u001b[0m\n\u001b[1;32m    131\u001b[0m \u001b[38;5;28;01mwith\u001b[39;00m \u001b[38;5;28mself\u001b[39m\u001b[38;5;241m.\u001b[39m_lock:\n\u001b[1;32m    132\u001b[0m   (concrete_function,\n\u001b[1;32m    133\u001b[0m    filtered_flat_args) \u001b[38;5;241m=\u001b[39m \u001b[38;5;28mself\u001b[39m\u001b[38;5;241m.\u001b[39m_maybe_define_function(args, kwargs)\n\u001b[0;32m--> 134\u001b[0m \u001b[38;5;28;01mreturn\u001b[39;00m \u001b[43mconcrete_function\u001b[49m\u001b[38;5;241;43m.\u001b[39;49m\u001b[43m_call_flat\u001b[49m\u001b[43m(\u001b[49m\n\u001b[1;32m    135\u001b[0m \u001b[43m    \u001b[49m\u001b[43mfiltered_flat_args\u001b[49m\u001b[43m,\u001b[49m\u001b[43m \u001b[49m\u001b[43mcaptured_inputs\u001b[49m\u001b[38;5;241;43m=\u001b[39;49m\u001b[43mconcrete_function\u001b[49m\u001b[38;5;241;43m.\u001b[39;49m\u001b[43mcaptured_inputs\u001b[49m\u001b[43m)\u001b[49m\n",
      "File \u001b[0;32m~/tensorflow-metal/lib/python3.10/site-packages/tensorflow/python/eager/polymorphic_function/monomorphic_function.py:1745\u001b[0m, in \u001b[0;36mConcreteFunction._call_flat\u001b[0;34m(self, args, captured_inputs, cancellation_manager)\u001b[0m\n\u001b[1;32m   1741\u001b[0m possible_gradient_type \u001b[38;5;241m=\u001b[39m gradients_util\u001b[38;5;241m.\u001b[39mPossibleTapeGradientTypes(args)\n\u001b[1;32m   1742\u001b[0m \u001b[38;5;28;01mif\u001b[39;00m (possible_gradient_type \u001b[38;5;241m==\u001b[39m gradients_util\u001b[38;5;241m.\u001b[39mPOSSIBLE_GRADIENT_TYPES_NONE\n\u001b[1;32m   1743\u001b[0m     \u001b[38;5;129;01mand\u001b[39;00m executing_eagerly):\n\u001b[1;32m   1744\u001b[0m   \u001b[38;5;66;03m# No tape is watching; skip to running the function.\u001b[39;00m\n\u001b[0;32m-> 1745\u001b[0m   \u001b[38;5;28;01mreturn\u001b[39;00m \u001b[38;5;28mself\u001b[39m\u001b[38;5;241m.\u001b[39m_build_call_outputs(\u001b[38;5;28;43mself\u001b[39;49m\u001b[38;5;241;43m.\u001b[39;49m\u001b[43m_inference_function\u001b[49m\u001b[38;5;241;43m.\u001b[39;49m\u001b[43mcall\u001b[49m\u001b[43m(\u001b[49m\n\u001b[1;32m   1746\u001b[0m \u001b[43m      \u001b[49m\u001b[43mctx\u001b[49m\u001b[43m,\u001b[49m\u001b[43m \u001b[49m\u001b[43margs\u001b[49m\u001b[43m,\u001b[49m\u001b[43m \u001b[49m\u001b[43mcancellation_manager\u001b[49m\u001b[38;5;241;43m=\u001b[39;49m\u001b[43mcancellation_manager\u001b[49m\u001b[43m)\u001b[49m)\n\u001b[1;32m   1747\u001b[0m forward_backward \u001b[38;5;241m=\u001b[39m \u001b[38;5;28mself\u001b[39m\u001b[38;5;241m.\u001b[39m_select_forward_and_backward_functions(\n\u001b[1;32m   1748\u001b[0m     args,\n\u001b[1;32m   1749\u001b[0m     possible_gradient_type,\n\u001b[1;32m   1750\u001b[0m     executing_eagerly)\n\u001b[1;32m   1751\u001b[0m forward_function, args_with_tangents \u001b[38;5;241m=\u001b[39m forward_backward\u001b[38;5;241m.\u001b[39mforward()\n",
      "File \u001b[0;32m~/tensorflow-metal/lib/python3.10/site-packages/tensorflow/python/eager/polymorphic_function/monomorphic_function.py:378\u001b[0m, in \u001b[0;36m_EagerDefinedFunction.call\u001b[0;34m(self, ctx, args, cancellation_manager)\u001b[0m\n\u001b[1;32m    376\u001b[0m \u001b[38;5;28;01mwith\u001b[39;00m _InterpolateFunctionError(\u001b[38;5;28mself\u001b[39m):\n\u001b[1;32m    377\u001b[0m   \u001b[38;5;28;01mif\u001b[39;00m cancellation_manager \u001b[38;5;129;01mis\u001b[39;00m \u001b[38;5;28;01mNone\u001b[39;00m:\n\u001b[0;32m--> 378\u001b[0m     outputs \u001b[38;5;241m=\u001b[39m \u001b[43mexecute\u001b[49m\u001b[38;5;241;43m.\u001b[39;49m\u001b[43mexecute\u001b[49m\u001b[43m(\u001b[49m\n\u001b[1;32m    379\u001b[0m \u001b[43m        \u001b[49m\u001b[38;5;28;43mstr\u001b[39;49m\u001b[43m(\u001b[49m\u001b[38;5;28;43mself\u001b[39;49m\u001b[38;5;241;43m.\u001b[39;49m\u001b[43msignature\u001b[49m\u001b[38;5;241;43m.\u001b[39;49m\u001b[43mname\u001b[49m\u001b[43m)\u001b[49m\u001b[43m,\u001b[49m\n\u001b[1;32m    380\u001b[0m \u001b[43m        \u001b[49m\u001b[43mnum_outputs\u001b[49m\u001b[38;5;241;43m=\u001b[39;49m\u001b[38;5;28;43mself\u001b[39;49m\u001b[38;5;241;43m.\u001b[39;49m\u001b[43m_num_outputs\u001b[49m\u001b[43m,\u001b[49m\n\u001b[1;32m    381\u001b[0m \u001b[43m        \u001b[49m\u001b[43minputs\u001b[49m\u001b[38;5;241;43m=\u001b[39;49m\u001b[43margs\u001b[49m\u001b[43m,\u001b[49m\n\u001b[1;32m    382\u001b[0m \u001b[43m        \u001b[49m\u001b[43mattrs\u001b[49m\u001b[38;5;241;43m=\u001b[39;49m\u001b[43mattrs\u001b[49m\u001b[43m,\u001b[49m\n\u001b[1;32m    383\u001b[0m \u001b[43m        \u001b[49m\u001b[43mctx\u001b[49m\u001b[38;5;241;43m=\u001b[39;49m\u001b[43mctx\u001b[49m\u001b[43m)\u001b[49m\n\u001b[1;32m    384\u001b[0m   \u001b[38;5;28;01melse\u001b[39;00m:\n\u001b[1;32m    385\u001b[0m     outputs \u001b[38;5;241m=\u001b[39m execute\u001b[38;5;241m.\u001b[39mexecute_with_cancellation(\n\u001b[1;32m    386\u001b[0m         \u001b[38;5;28mstr\u001b[39m(\u001b[38;5;28mself\u001b[39m\u001b[38;5;241m.\u001b[39msignature\u001b[38;5;241m.\u001b[39mname),\n\u001b[1;32m    387\u001b[0m         num_outputs\u001b[38;5;241m=\u001b[39m\u001b[38;5;28mself\u001b[39m\u001b[38;5;241m.\u001b[39m_num_outputs,\n\u001b[0;32m   (...)\u001b[0m\n\u001b[1;32m    390\u001b[0m         ctx\u001b[38;5;241m=\u001b[39mctx,\n\u001b[1;32m    391\u001b[0m         cancellation_manager\u001b[38;5;241m=\u001b[39mcancellation_manager)\n",
      "File \u001b[0;32m~/tensorflow-metal/lib/python3.10/site-packages/tensorflow/python/eager/execute.py:52\u001b[0m, in \u001b[0;36mquick_execute\u001b[0;34m(op_name, num_outputs, inputs, attrs, ctx, name)\u001b[0m\n\u001b[1;32m     50\u001b[0m \u001b[38;5;28;01mtry\u001b[39;00m:\n\u001b[1;32m     51\u001b[0m   ctx\u001b[38;5;241m.\u001b[39mensure_initialized()\n\u001b[0;32m---> 52\u001b[0m   tensors \u001b[38;5;241m=\u001b[39m \u001b[43mpywrap_tfe\u001b[49m\u001b[38;5;241;43m.\u001b[39;49m\u001b[43mTFE_Py_Execute\u001b[49m\u001b[43m(\u001b[49m\u001b[43mctx\u001b[49m\u001b[38;5;241;43m.\u001b[39;49m\u001b[43m_handle\u001b[49m\u001b[43m,\u001b[49m\u001b[43m \u001b[49m\u001b[43mdevice_name\u001b[49m\u001b[43m,\u001b[49m\u001b[43m \u001b[49m\u001b[43mop_name\u001b[49m\u001b[43m,\u001b[49m\n\u001b[1;32m     53\u001b[0m \u001b[43m                                      \u001b[49m\u001b[43minputs\u001b[49m\u001b[43m,\u001b[49m\u001b[43m \u001b[49m\u001b[43mattrs\u001b[49m\u001b[43m,\u001b[49m\u001b[43m \u001b[49m\u001b[43mnum_outputs\u001b[49m\u001b[43m)\u001b[49m\n\u001b[1;32m     54\u001b[0m \u001b[38;5;28;01mexcept\u001b[39;00m core\u001b[38;5;241m.\u001b[39m_NotOkStatusException \u001b[38;5;28;01mas\u001b[39;00m e:\n\u001b[1;32m     55\u001b[0m   \u001b[38;5;28;01mif\u001b[39;00m name \u001b[38;5;129;01mis\u001b[39;00m \u001b[38;5;129;01mnot\u001b[39;00m \u001b[38;5;28;01mNone\u001b[39;00m:\n",
      "\u001b[0;31mKeyboardInterrupt\u001b[0m: "
     ]
    }
   ],
   "source": [
    "# Train the MobileNetV2 based model.\n",
    "\n",
    "modelMobNet.fit(X_train, Y_train, batch_size=32, epochs=50,  validation_data=(X_test, Y_test), callbacks=[TensorBoard(log_dir=\"logs/modelMobNet\")])"
   ]
  },
  {
   "cell_type": "code",
   "execution_count": 11,
   "id": "daa8fbee",
   "metadata": {},
   "outputs": [
    {
     "name": "stdout",
     "output_type": "stream",
     "text": [
      "72/72 [==============================] - 1s 19ms/step - loss: 1.3364 - accuracy: 0.5678\n",
      "Test score: 1.3364269733428955\n",
      "Test accuracy: 0.5678462386131287\n"
     ]
    }
   ],
   "source": [
    "score, acc = modelMobNet.evaluate(X_test, Y_test, batch_size=100)\n",
    "print('Test score:', score)\n",
    "print(\"Test accuracy:\", acc)"
   ]
  },
  {
   "cell_type": "code",
   "execution_count": 15,
   "id": "8a13425f",
   "metadata": {},
   "outputs": [
    {
     "name": "stdout",
     "output_type": "stream",
     "text": [
      "Downloading data from https://storage.googleapis.com/tensorflow/keras-applications/resnet/resnet50_weights_tf_dim_ordering_tf_kernels_notop.h5\n",
      "94765736/94765736 [==============================] - 2s 0us/step\n"
     ]
    }
   ],
   "source": [
    "# Create a ResNet50 based model.\n",
    "\n",
    "base_model = model = ResNet50(input_shape=(IMAGE_WIDTH, IMAGE_HEIGHT, NUM_CHANNELS),\n",
    "                                               include_top=False,\n",
    "                                               weights='imagenet')\n",
    "\n",
    "#base_model.trainable = False\n",
    "\n",
    "modelResNet = Sequential([\n",
    "    base_model,\n",
    "    GlobalAveragePooling2D(),\n",
    "    Dropout(0.3),\n",
    "    Dense(128, activation='softmax'),\n",
    "    Dense(NUM_LABELS, activation='softmax'),\n",
    "])\n",
    "\n",
    "modelResNet.compile(loss='categorical_crossentropy', optimizer=Adam(0.001), metrics=['accuracy'])"
   ]
  },
  {
   "cell_type": "code",
   "execution_count": 16,
   "id": "d350bd04",
   "metadata": {},
   "outputs": [
    {
     "name": "stdout",
     "output_type": "stream",
     "text": [
      "Epoch 1/50\n"
     ]
    },
    {
     "name": "stderr",
     "output_type": "stream",
     "text": [
      "2022-12-29 00:09:21.288420: I tensorflow/core/grappler/optimizers/custom_graph_optimizer_registry.cc:114] Plugin optimizer for device_type GPU is enabled.\n"
     ]
    },
    {
     "name": "stdout",
     "output_type": "stream",
     "text": [
      "898/898 [==============================] - ETA: 0s - loss: 1.8366 - accuracy: 0.2484"
     ]
    },
    {
     "name": "stderr",
     "output_type": "stream",
     "text": [
      "2022-12-29 00:10:30.261837: I tensorflow/core/grappler/optimizers/custom_graph_optimizer_registry.cc:114] Plugin optimizer for device_type GPU is enabled.\n"
     ]
    },
    {
     "name": "stdout",
     "output_type": "stream",
     "text": [
      "898/898 [==============================] - 77s 79ms/step - loss: 1.8366 - accuracy: 0.2484 - val_loss: 1.8119 - val_accuracy: 0.2552\n",
      "Epoch 2/50\n",
      "898/898 [==============================] - 68s 76ms/step - loss: 1.7841 - accuracy: 0.2579 - val_loss: 1.7410 - val_accuracy: 0.3013\n",
      "Epoch 3/50\n",
      "898/898 [==============================] - 68s 76ms/step - loss: 1.7220 - accuracy: 0.3154 - val_loss: 1.7116 - val_accuracy: 0.3314\n",
      "Epoch 4/50\n",
      "898/898 [==============================] - 68s 76ms/step - loss: 1.6258 - accuracy: 0.3744 - val_loss: 1.5782 - val_accuracy: 0.4117\n",
      "Epoch 5/50\n",
      "898/898 [==============================] - 68s 76ms/step - loss: 1.5190 - accuracy: 0.4291 - val_loss: 1.4687 - val_accuracy: 0.4490\n",
      "Epoch 6/50\n",
      "898/898 [==============================] - 67s 75ms/step - loss: 1.4464 - accuracy: 0.4595 - val_loss: 1.4089 - val_accuracy: 0.4723\n",
      "Epoch 7/50\n",
      "898/898 [==============================] - 67s 75ms/step - loss: 1.3820 - accuracy: 0.4863 - val_loss: 1.8613 - val_accuracy: 0.2455\n",
      "Epoch 8/50\n",
      "898/898 [==============================] - 70s 78ms/step - loss: 1.4174 - accuracy: 0.4624 - val_loss: 1.6206 - val_accuracy: 0.3831\n",
      "Epoch 9/50\n",
      "898/898 [==============================] - 68s 76ms/step - loss: 1.3101 - accuracy: 0.5134 - val_loss: 1.3087 - val_accuracy: 0.5164\n",
      "Epoch 10/50\n",
      "898/898 [==============================] - 68s 76ms/step - loss: 1.2536 - accuracy: 0.5347 - val_loss: 1.3344 - val_accuracy: 0.4926\n",
      "Epoch 11/50\n",
      "898/898 [==============================] - 68s 76ms/step - loss: 1.2058 - accuracy: 0.5563 - val_loss: 1.3470 - val_accuracy: 0.4971\n",
      "Epoch 12/50\n",
      "898/898 [==============================] - 67s 75ms/step - loss: 1.2162 - accuracy: 0.5513 - val_loss: 1.5523 - val_accuracy: 0.4016\n",
      "Epoch 13/50\n",
      "898/898 [==============================] - 68s 76ms/step - loss: 1.1917 - accuracy: 0.5645 - val_loss: 1.4412 - val_accuracy: 0.4531\n",
      "Epoch 14/50\n",
      "898/898 [==============================] - 68s 76ms/step - loss: 1.1648 - accuracy: 0.5748 - val_loss: 1.2591 - val_accuracy: 0.5305\n",
      "Epoch 15/50\n",
      "898/898 [==============================] - 68s 75ms/step - loss: 1.0771 - accuracy: 0.6132 - val_loss: 1.3262 - val_accuracy: 0.5210\n",
      "Epoch 16/50\n",
      "898/898 [==============================] - 68s 75ms/step - loss: 1.0356 - accuracy: 0.6314 - val_loss: 1.2474 - val_accuracy: 0.5407\n",
      "Epoch 17/50\n",
      "898/898 [==============================] - 68s 76ms/step - loss: 1.2237 - accuracy: 0.5551 - val_loss: 1.3600 - val_accuracy: 0.4936\n",
      "Epoch 18/50\n",
      "898/898 [==============================] - 68s 75ms/step - loss: 1.2797 - accuracy: 0.5310 - val_loss: 1.3168 - val_accuracy: 0.5067\n",
      "Epoch 19/50\n",
      "898/898 [==============================] - 68s 75ms/step - loss: 1.2176 - accuracy: 0.5591 - val_loss: 1.9618 - val_accuracy: 0.2591\n",
      "Epoch 20/50\n",
      "898/898 [==============================] - 68s 76ms/step - loss: 1.2547 - accuracy: 0.5395 - val_loss: 1.3094 - val_accuracy: 0.5079\n",
      "Epoch 21/50\n",
      "898/898 [==============================] - 68s 76ms/step - loss: 1.1201 - accuracy: 0.6025 - val_loss: 2.0608 - val_accuracy: 0.2375\n",
      "Epoch 22/50\n",
      "898/898 [==============================] - 67s 75ms/step - loss: 1.1863 - accuracy: 0.5704 - val_loss: 1.7104 - val_accuracy: 0.3713\n",
      "Epoch 23/50\n",
      "898/898 [==============================] - 69s 77ms/step - loss: 1.0884 - accuracy: 0.6108 - val_loss: 1.3102 - val_accuracy: 0.5219\n",
      "Epoch 24/50\n",
      "898/898 [==============================] - 68s 76ms/step - loss: 1.0305 - accuracy: 0.6397 - val_loss: 1.2919 - val_accuracy: 0.5273\n",
      "Epoch 25/50\n",
      "898/898 [==============================] - 69s 77ms/step - loss: 1.0222 - accuracy: 0.6453 - val_loss: 1.3113 - val_accuracy: 0.5205\n",
      "Epoch 26/50\n",
      "898/898 [==============================] - 68s 76ms/step - loss: 1.2446 - accuracy: 0.5473 - val_loss: 1.2809 - val_accuracy: 0.5198\n",
      "Epoch 27/50\n",
      "898/898 [==============================] - 68s 75ms/step - loss: 1.0338 - accuracy: 0.6319 - val_loss: 1.2794 - val_accuracy: 0.5216\n",
      "Epoch 28/50\n",
      "898/898 [==============================] - 75s 83ms/step - loss: 0.9497 - accuracy: 0.6697 - val_loss: 1.2807 - val_accuracy: 0.5573\n",
      "Epoch 29/50\n",
      "898/898 [==============================] - 69s 77ms/step - loss: 0.8648 - accuracy: 0.7119 - val_loss: 1.2984 - val_accuracy: 0.5458\n",
      "Epoch 30/50\n",
      "898/898 [==============================] - 69s 77ms/step - loss: 0.9736 - accuracy: 0.6664 - val_loss: 1.6144 - val_accuracy: 0.4284\n",
      "Epoch 31/50\n",
      "898/898 [==============================] - 68s 76ms/step - loss: 0.9392 - accuracy: 0.6790 - val_loss: 1.2676 - val_accuracy: 0.5559\n",
      "Epoch 32/50\n",
      "898/898 [==============================] - 68s 76ms/step - loss: 0.7394 - accuracy: 0.7566 - val_loss: 1.5670 - val_accuracy: 0.4830\n",
      "Epoch 33/50\n",
      "898/898 [==============================] - 68s 76ms/step - loss: 0.6879 - accuracy: 0.7746 - val_loss: 1.3055 - val_accuracy: 0.5578\n",
      "Epoch 34/50\n",
      "898/898 [==============================] - 69s 77ms/step - loss: 0.6190 - accuracy: 0.8010 - val_loss: 1.4035 - val_accuracy: 0.5522\n",
      "Epoch 35/50\n",
      "898/898 [==============================] - 68s 76ms/step - loss: 0.5738 - accuracy: 0.8200 - val_loss: 1.3977 - val_accuracy: 0.5607\n",
      "Epoch 36/50\n",
      "898/898 [==============================] - 69s 77ms/step - loss: 0.5386 - accuracy: 0.8315 - val_loss: 1.3961 - val_accuracy: 0.5655\n",
      "Epoch 37/50\n",
      "898/898 [==============================] - 68s 76ms/step - loss: 0.5009 - accuracy: 0.8452 - val_loss: 1.4830 - val_accuracy: 0.5488\n",
      "Epoch 38/50\n",
      "898/898 [==============================] - 68s 76ms/step - loss: 0.4759 - accuracy: 0.8537 - val_loss: 1.5966 - val_accuracy: 0.5281\n",
      "Epoch 39/50\n",
      "898/898 [==============================] - 68s 76ms/step - loss: 0.4477 - accuracy: 0.8639 - val_loss: 1.5415 - val_accuracy: 0.5472\n",
      "Epoch 40/50\n",
      "898/898 [==============================] - 68s 76ms/step - loss: 0.4037 - accuracy: 0.8794 - val_loss: 1.8788 - val_accuracy: 0.4809\n",
      "Epoch 41/50\n",
      "898/898 [==============================] - 69s 76ms/step - loss: 0.3824 - accuracy: 0.8855 - val_loss: 1.6155 - val_accuracy: 0.5391\n",
      "Epoch 42/50\n",
      "898/898 [==============================] - 69s 77ms/step - loss: 0.3524 - accuracy: 0.8956 - val_loss: 1.6407 - val_accuracy: 0.5329\n",
      "Epoch 43/50\n",
      "898/898 [==============================] - 68s 76ms/step - loss: 0.3342 - accuracy: 0.9010 - val_loss: 1.6628 - val_accuracy: 0.5548\n",
      "Epoch 44/50\n",
      "898/898 [==============================] - 68s 76ms/step - loss: 0.3213 - accuracy: 0.9047 - val_loss: 1.7697 - val_accuracy: 0.5368\n",
      "Epoch 45/50\n",
      "898/898 [==============================] - 68s 76ms/step - loss: 0.3547 - accuracy: 0.8920 - val_loss: 1.7527 - val_accuracy: 0.5120\n",
      "Epoch 46/50\n",
      "898/898 [==============================] - 69s 77ms/step - loss: 0.2831 - accuracy: 0.9141 - val_loss: 1.6874 - val_accuracy: 0.5447\n",
      "Epoch 47/50\n",
      "898/898 [==============================] - 68s 76ms/step - loss: 0.2515 - accuracy: 0.9256 - val_loss: 1.7389 - val_accuracy: 0.5483\n",
      "Epoch 48/50\n",
      "898/898 [==============================] - 68s 75ms/step - loss: 0.2526 - accuracy: 0.9280 - val_loss: 1.6814 - val_accuracy: 0.5627\n",
      "Epoch 49/50\n",
      "898/898 [==============================] - 68s 76ms/step - loss: 0.2264 - accuracy: 0.9377 - val_loss: 1.7025 - val_accuracy: 0.5613\n",
      "Epoch 50/50\n",
      "898/898 [==============================] - 69s 76ms/step - loss: 0.2171 - accuracy: 0.9393 - val_loss: 1.7619 - val_accuracy: 0.5570\n"
     ]
    },
    {
     "data": {
      "text/plain": [
       "<keras.callbacks.History at 0x4c0af2890>"
      ]
     },
     "execution_count": 16,
     "metadata": {},
     "output_type": "execute_result"
    }
   ],
   "source": [
    "# Train the ResNet50 based model.\n",
    "\n",
    "modelResNet.fit(X_train, Y_train, batch_size=32, epochs=50,  validation_data=(X_test, Y_test), callbacks=[TensorBoard(log_dir=\"logs/modelResNet\")])"
   ]
  },
  {
   "cell_type": "code",
   "execution_count": null,
   "id": "788fb864",
   "metadata": {},
   "outputs": [],
   "source": []
  }
 ],
 "metadata": {
  "kernelspec": {
   "display_name": "Python 3 (ipykernel)",
   "language": "python",
   "name": "python3"
  },
  "language_info": {
   "codemirror_mode": {
    "name": "ipython",
    "version": 3
   },
   "file_extension": ".py",
   "mimetype": "text/x-python",
   "name": "python",
   "nbconvert_exporter": "python",
   "pygments_lexer": "ipython3",
   "version": "3.10.9"
  }
 },
 "nbformat": 4,
 "nbformat_minor": 5
}
